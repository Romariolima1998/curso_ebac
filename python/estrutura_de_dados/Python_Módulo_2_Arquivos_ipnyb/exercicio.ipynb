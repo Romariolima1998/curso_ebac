{
 "cells": [
  {
   "cell_type": "markdown",
   "metadata": {},
   "source": [
    "lista dos 10 lemhores filmes"
   ]
  },
  {
   "cell_type": "code",
   "execution_count": 1,
   "metadata": {},
   "outputs": [
    {
     "name": "stdout",
     "output_type": "stream",
     "text": [
      "['O Poderoso Chefão', 'Um Sonho de Liberdade', 'Batman - O Cavaleiro das Trevas', 'O Poderoso Chefão II', '12 Homens e uma Sentença', 'A Lista de Schindler', 'O Senhor dos Anéis: O Retorno do Rei', 'Pulp Fiction - Tempo de Violência', 'O Senhor dos Anéis: A Sociedade do Anel', 'Três Homens em Conflito']\n"
     ]
    }
   ],
   "source": [
    "filmes = [\n",
    "    'Um Sonho de Liberdade',\n",
    "    'O Poderoso Chefão',\n",
    "    'Batman - O Cavaleiro das Trevas',\n",
    "    'O Poderoso Chefão II',\n",
    "    '12 Homens e uma Sentença',\n",
    "    'A Lista de Schindler',\n",
    "    'O Senhor dos Anéis: O Retorno do Rei',\n",
    "    'Pulp Fiction - Tempo de Violência',\n",
    "    'O Senhor dos Anéis: A Sociedade do Anel',\n",
    "    'Três Homens em Conflito'\n",
    "]\n",
    "\n",
    "print(filmes)\n",
    "\n",
    "filmes.insert(0, filmes.pop(1))\n",
    "\n",
    "print(filmes)\n"
   ]
  },
  {
   "cell_type": "code",
   "execution_count": 4,
   "metadata": {},
   "outputs": [
    {
     "name": "stdout",
     "output_type": "stream",
     "text": [
      "['Pulp Fiction - Tempo de Violência', 'O Senhor dos Anéis: A Sociedade do Anel', 'O Senhor dos Anéis: O Retorno do Rei', 'Três Homens em ConflitoTrês Homens em Conflito', 'O Poderoso Chefão II', '12 Homens e uma Sentença', 'Um Sonho de Liberdade', 'Batman - O Cavaleiro das Trevas', 'O Poderoso Chefão', 'A Lista de Schindler']\n"
     ]
    }
   ],
   "source": [
    "filmes = list(set([\n",
    "    'Um Sonho de Liberdade',\n",
    "    'O Poderoso Chefão',\n",
    "    'Batman - O Cavaleiro das Trevas',\n",
    "    'O Poderoso Chefão II',\n",
    "    '12 Homens e uma Sentença',\n",
    "    'A Lista de Schindler',\n",
    "    'O Senhor dos Anéis: O Retorno do Rei',\n",
    "    'Pulp Fiction - Tempo de Violência',\n",
    "    'Pulp Fiction - Tempo de Violência',\n",
    "    'O Senhor dos Anéis: A Sociedade do Anel',\n",
    "    'O Senhor dos Anéis: A Sociedade do Anel',\n",
    "    'Três Homens em Conflito'\n",
    "    'Três Homens em Conflito'\n",
    "]))\n",
    "\n",
    "print(filmes)"
   ]
  },
  {
   "cell_type": "code",
   "execution_count": 11,
   "metadata": {},
   "outputs": [
    {
     "name": "stdout",
     "output_type": "stream",
     "text": [
      "{'filme1': {'nome': 'O Poderoso Chefão', 'ano': 1972, 'sinopse': 'O patriarca idoso de uma dinastia do crime organizado transfere o controle de seu império clandestino para seu filho relutante.'}, 'filme2': {'nome': 'Um Sonho de Liberdade', 'ano': 1994, 'sinopse': 'Dois homens presos se reúnem ao longo de vários anos, encontrando consolo e eventual redenção através de atos de decência comum.'}, 'filme3': {'nome': 'Batman - O Cavaleiro das Trevas', 'ano': 2008, 'sinopse': 'Agora com a ajuda do tenente Jim Gordon e do promotor público Harvey Dent, Batman tem tudo para banir o crime de Gotham City de uma vez por todas. Mas em breve, os três serão vítimas do Coringa, que pretende lançar Gotham em uma anarquia.'}, 'filme4': {'nome': 'O Poderoso Chefão II', 'ano': 1974, 'sinopse': 'Em 1950, Michael Corleone, agora à frente da família, tenta expandir o negócio do crime a Las Vegas, Los Angeles e Cuba. Paralelamente, é revelada a história de Vito Corleone, e de como saiu da Sicília e chegou a Nova Iorque.'}}\n"
     ]
    }
   ],
   "source": [
    "filmes = {\n",
    "    'filme1': {\n",
    "        'nome': 'Um Sonho de Liberdade',\n",
    "        'ano': 1994,\n",
    "        'sinopse': 'Dois homens presos se reúnem ao longo de vários anos, encontrando consolo e eventual redenção através de atos de decência comum.'\n",
    "        },\n",
    "    'filme2': {\n",
    "        'nome': 'O Poderoso Chefão',\n",
    "        'ano':1972,\n",
    "        'sinopse': 'O patriarca idoso de uma dinastia do crime organizado transfere o controle de seu império clandestino para seu filho relutante.'\n",
    "        },\n",
    "    'filme3': {\n",
    "        'nome': 'Batman - O Cavaleiro das Trevas',\n",
    "        'ano': 2008,\n",
    "        'sinopse': 'Agora com a ajuda do tenente Jim Gordon e do promotor público Harvey Dent, Batman tem tudo para banir o crime de Gotham City de uma vez por todas. Mas em breve, os três serão vítimas do Coringa, que pretende lançar Gotham em uma anarquia.'\n",
    "        },\n",
    "    'filme4': {\n",
    "        'nome': 'O Poderoso Chefão II',\n",
    "        'ano': 1974,\n",
    "        'sinopse': 'Em 1950, Michael Corleone, agora à frente da família, tenta expandir o negócio do crime a Las Vegas, Los Angeles e Cuba. Paralelamente, é revelada a história de Vito Corleone, e de como saiu da Sicília e chegou a Nova Iorque.'\n",
    "        }\n",
    "}\n",
    "\n",
    "print(filmes)\n",
    "\n",
    "filme1 = filmes.get('filme1')\n",
    "filme2 = filmes.get('filme2')\n",
    "\n",
    "filmes['filme1'] = filme2\n",
    "filmes['filme2'] = filme1\n",
    "\n",
    "print(filmes)"
   ]
  }
 ],
 "metadata": {
  "kernelspec": {
   "display_name": "Python 3",
   "language": "python",
   "name": "python3"
  },
  "language_info": {
   "codemirror_mode": {
    "name": "ipython",
    "version": 3
   },
   "file_extension": ".py",
   "mimetype": "text/x-python",
   "name": "python",
   "nbconvert_exporter": "python",
   "pygments_lexer": "ipython3",
   "version": "3.11.6"
  }
 },
 "nbformat": 4,
 "nbformat_minor": 2
}
